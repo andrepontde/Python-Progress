{
 "cells": [
  {
   "cell_type": "markdown",
   "metadata": {},
   "source": [
    "___\n",
    "\n",
    "<a href='https://www.udemy.com/user/joseportilla/'><img src='../Pierian_Data_Logo.png'/></a>\n",
    "___\n",
    "<center><em>Content Copyright by Pierian Data</em></center>"
   ]
  },
  {
   "cell_type": "markdown",
   "metadata": {},
   "source": [
    "# Milestone Project 1: Walkthrough Steps Workbook\n",
    "\n",
    "Below is a set of steps for you to follow to try to create the Tic Tac Toe Milestone Project game!"
   ]
  },
  {
   "cell_type": "markdown",
   "metadata": {},
   "source": [
    "#### Some suggested tools before you get started:\n",
    "To take input from a user:\n",
    "\n",
    "    player1 = input(\"Please pick a marker 'X' or 'O'\")\n",
    "    \n",
    "Note that input() takes in a string. If you need an integer value, use\n",
    "\n",
    "    position = int(input('Please enter a number'))\n",
    "    \n",
    "<br>To clear the screen between moves:\n",
    "\n",
    "    from IPython.display import clear_output\n",
    "    clear_output()\n",
    "    \n",
    "Note that clear_output() will only work in jupyter. To clear the screen in other IDEs, consider:\n",
    "\n",
    "    print('\\n'*100)\n",
    "    \n",
    "This scrolls the previous board up out of view. Now on to the program!"
   ]
  },
  {
   "cell_type": "markdown",
   "metadata": {},
   "source": [
    "**Step 1: Write a function that can print out a board. Set up your board as a list, where each index 1-9 corresponds with a number on a number pad, so you get a 3 by 3 board representation.**"
   ]
  },
  {
   "cell_type": "code",
   "execution_count": 64,
   "metadata": {
    "collapsed": true
   },
   "outputs": [],
   "source": [
    "from IPython.display import clear_output\n",
    "\n",
    "def display_board(board):\n",
    "    clear_output()\n",
    "    \n",
    "    print(\"   |   |   \")\n",
    "    print(f\" {board[7]} | {board[8]} | {board[9]} \")\n",
    "    print(\"__  __  __ \")\n",
    "    print(\"   |   |   \")\n",
    "    print(f\" {board[4]} | {board[5]} | {board[6]} \")\n",
    "    print(\"   |   |   \")\n",
    "    print(\"__  __  __ \")\n",
    "    print(f\" {board[1]} | {board[2]} | {board[3]} \")\n",
    "    print(\"   |   |   \")"
   ]
  },
  {
   "cell_type": "markdown",
   "metadata": {},
   "source": [
    "**TEST Step 1:** run your function on a test version of the board list, and make adjustments as necessary"
   ]
  },
  {
   "cell_type": "code",
   "execution_count": 74,
   "metadata": {
    "collapsed": true
   },
   "outputs": [
    {
     "name": "stdout",
     "output_type": "stream",
     "text": [
      "   |   |   \n",
      " X | O | X \n",
      "__  __  __ \n",
      "   |   |   \n",
      " O | X | O \n",
      "   |   |   \n",
      "__  __  __ \n",
      " X | O | X \n",
      "   |   |   \n"
     ]
    }
   ],
   "source": [
    "test_board = ['#','X','O','X','O','X','O','X','O','X']\n",
    "display_board(test_board)"
   ]
  },
  {
   "cell_type": "markdown",
   "metadata": {},
   "source": [
    "**Step 2: Write a function that can take in a player input and assign their marker as 'X' or 'O'. Think about using *while* loops to continually ask until you get a correct answer.**"
   ]
  },
  {
   "cell_type": "code",
   "execution_count": 49,
   "metadata": {
    "collapsed": true
   },
   "outputs": [],
   "source": [
    "def player_input():\n",
    "    \n",
    "    choice = 'wrong'\n",
    "    \n",
    "    while choice not in ['X', 'O']:\n",
    "        choice = input(\"Player 1, please choose X or O\")\n",
    "        \n",
    "        if choice.upper() not in ['X', 'O']:\n",
    "            print(\"Not a valids input\")\n",
    "        elif choice.upper() == 'X':\n",
    "            return ('X', 'O')\n",
    "        elif choice.upper() == 'O':\n",
    "            return ('O', 'X')"
   ]
  },
  {
   "cell_type": "markdown",
   "metadata": {},
   "source": [
    "**TEST Step 2:** run the function to make sure it returns the desired output"
   ]
  },
  {
   "cell_type": "code",
   "execution_count": 50,
   "metadata": {
    "collapsed": true
   },
   "outputs": [
    {
     "data": {
      "text/plain": [
       "('X', 'O')"
      ]
     },
     "execution_count": 50,
     "metadata": {},
     "output_type": "execute_result"
    }
   ],
   "source": [
    "player_input()"
   ]
  },
  {
   "cell_type": "markdown",
   "metadata": {},
   "source": [
    "**Step 3: Write a function that takes in the board list object, a marker ('X' or 'O'), and a desired position (number 1-9) and assigns it to the board.**"
   ]
  },
  {
   "cell_type": "code",
   "execution_count": 51,
   "metadata": {
    "collapsed": true
   },
   "outputs": [],
   "source": [
    "def place_marker(board, marker, position):\n",
    "    board[position] = marker\n",
    "    return board"
   ]
  },
  {
   "cell_type": "markdown",
   "metadata": {},
   "source": [
    "**TEST Step 3:** run the place marker function using test parameters and display the modified board"
   ]
  },
  {
   "cell_type": "code",
   "execution_count": 72,
   "metadata": {
    "collapsed": true
   },
   "outputs": [
    {
     "name": "stdout",
     "output_type": "stream",
     "text": [
      "   |   |   \n",
      " X | $ | X \n",
      "__  __  __ \n",
      "   |   |   \n",
      " O | X | O \n",
      "   |   |   \n",
      "__  __  __ \n",
      " X | O | X \n",
      "   |   |   \n"
     ]
    }
   ],
   "source": [
    "place_marker(test_board,'$',8)\n",
    "display_board(test_board)"
   ]
  },
  {
   "cell_type": "markdown",
   "metadata": {},
   "source": [
    "**Step 4: Write a function that takes in a board and a mark (X or O) and then checks to see if that mark has won.**"
   ]
  },
  {
   "cell_type": "code",
   "execution_count": 53,
   "metadata": {
    "collapsed": true
   },
   "outputs": [],
   "source": [
    "def win_check(board, mark):\n",
    "    \n",
    "    if board[1]==board[2]==board[3]==mark:\n",
    "        return True\n",
    "    elif board[4]==board[5]==board[6]==mark:\n",
    "        return True\n",
    "    elif board[4]==board[5]==board[6]==mark:\n",
    "        return True\n",
    "    elif board[1]==board[4]==board[7]==mark:\n",
    "        return True\n",
    "    elif board[2]==board[5]==board[8]==mark:\n",
    "        return True\n",
    "    elif board[3]==board[6]==board[9]==mark:\n",
    "        return True\n",
    "    elif board[1]==board[5]==board[9]==mark:\n",
    "        return True\n",
    "    elif board[3]==board[5]==board[7]==mark:\n",
    "        return True\n",
    "    else:\n",
    "        return False"
   ]
  },
  {
   "cell_type": "markdown",
   "metadata": {},
   "source": [
    "**TEST Step 4:** run the win_check function against our test_board - it should return True"
   ]
  },
  {
   "cell_type": "code",
   "execution_count": 54,
   "metadata": {
    "collapsed": true
   },
   "outputs": [
    {
     "data": {
      "text/plain": [
       "True"
      ]
     },
     "execution_count": 54,
     "metadata": {},
     "output_type": "execute_result"
    }
   ],
   "source": [
    "win_check(test_board,'X')"
   ]
  },
  {
   "cell_type": "markdown",
   "metadata": {},
   "source": [
    "**Step 5: Write a function that uses the random module to randomly decide which player goes first. You may want to lookup random.randint() Return a string of which player went first.**"
   ]
  },
  {
   "cell_type": "code",
   "execution_count": 55,
   "metadata": {
    "collapsed": true
   },
   "outputs": [],
   "source": [
    "import random\n",
    "\n",
    "def choose_first():\n",
    "    lucky = random.randint(1, 2)\n",
    "    \n",
    "    if lucky == 1:\n",
    "        return 'Player 1'\n",
    "    elif lucky == 2:\n",
    "        return 'Player 2'"
   ]
  },
  {
   "cell_type": "markdown",
   "metadata": {},
   "source": [
    "**Step 6: Write a function that returns a boolean indicating whether a space on the board is freely available.**"
   ]
  },
  {
   "cell_type": "code",
   "execution_count": 56,
   "metadata": {},
   "outputs": [
    {
     "name": "stdout",
     "output_type": "stream",
     "text": [
      "   |   |   \n",
      "   |   |   \n",
      "__  __  __ \n",
      "   |   |   \n",
      "   |   |   \n",
      "   |   |   \n",
      "__  __  __ \n",
      "   |   |   \n",
      "   |   |   \n"
     ]
    }
   ],
   "source": [
    "another_test_board = ['#',' ',' ',' ',' ',' ',' ',' ',' ',' ']\n",
    "display_board(another_test_board)\n"
   ]
  },
  {
   "cell_type": "code",
   "execution_count": 57,
   "metadata": {
    "collapsed": true
   },
   "outputs": [],
   "source": [
    "def space_check(board, position):\n",
    "    \n",
    "    if board[position] == ' ':\n",
    "        return True\n",
    "    else:\n",
    "        return False\n"
   ]
  },
  {
   "cell_type": "markdown",
   "metadata": {},
   "source": [
    "**Step 7: Write a function that checks if the board is full and returns a boolean value. True if full, False otherwise.**"
   ]
  },
  {
   "cell_type": "code",
   "execution_count": 58,
   "metadata": {
    "collapsed": true
   },
   "outputs": [],
   "source": [
    "def full_board_check(board):\n",
    "    \n",
    "    if ' ' not in board:\n",
    "        return True\n",
    "    else:\n",
    "        return False\n",
    "    "
   ]
  },
  {
   "cell_type": "markdown",
   "metadata": {},
   "source": [
    "**Step 8: Write a function that asks for a player's next position (as a number 1-9) and then uses the function from step 6 to check if it's a free position. If it is, then return the position for later use.**"
   ]
  },
  {
   "cell_type": "code",
   "execution_count": 62,
   "metadata": {
    "collapsed": true
   },
   "outputs": [],
   "source": [
    "def player_choice(board):\n",
    "    check = False\n",
    "    while check == False:\n",
    "        position = int(input(\"Player, where do you want to place your marker (1 to 9)?\"))\n",
    "        check = space_check(board, position)\n",
    "        if check:\n",
    "            return int(position)\n",
    "        else:\n",
    "            print(\"That position is ocupied, please choose another position\")\n",
    "        "
   ]
  },
  {
   "cell_type": "markdown",
   "metadata": {},
   "source": [
    "**Step 9: Write a function that asks the player if they want to play again and returns a boolean True if they do want to play again.**"
   ]
  },
  {
   "cell_type": "code",
   "execution_count": 60,
   "metadata": {
    "collapsed": true
   },
   "outputs": [],
   "source": [
    "def replay():\n",
    "    choice = 'False'\n",
    "    \n",
    "    while choice not in ['Yes', 'No', 'no', 'yes', 'Y', 'N']:\n",
    "        choice = input(\"Would you like to play again?\")\n",
    "        if choice not in ['Yes', 'No', 'no', 'yes', 'Y', 'N']:\n",
    "            print(\"That is not a valid input, please chose again\")\n",
    "        elif choice in ['Yes', 'yes', 'Y']:\n",
    "            return True\n",
    "        elif choice in ['No', 'no', 'N']:\n",
    "            return False"
   ]
  },
  {
   "cell_type": "markdown",
   "metadata": {
    "collapsed": true
   },
   "source": [
    "**Step 10: Here comes the hard part! Use while loops and the functions you've made to run the game!**"
   ]
  },
  {
   "cell_type": "code",
   "execution_count": 66,
   "metadata": {
    "collapsed": true
   },
   "outputs": [
    {
     "name": "stdout",
     "output_type": "stream",
     "text": [
      "   |   |   \n",
      "   |   | X \n",
      "__  __  __ \n",
      "   |   |   \n",
      " O | X | O \n",
      "   |   |   \n",
      "__  __  __ \n",
      " X | O | X \n",
      "   |   |   \n",
      "Congratulations, player2 wins!\n"
     ]
    }
   ],
   "source": [
    "print('Welcome to Tic Tac Toe!')\n",
    "\n",
    "\n",
    "playAgain = True\n",
    "\n",
    "while playAgain == True:\n",
    "    theBoard = ['#',' ',' ',' ',' ',' ',' ',' ',' ',' ']\n",
    "    \n",
    "    order = player_input()\n",
    "    player1mark = order[0]\n",
    "    player2mark = order[1]\n",
    "    turn = choose_first()\n",
    "    print(f\"{turn} will choose First\")\n",
    "    \n",
    "    win = False\n",
    "    \n",
    "    while not win: \n",
    "        \n",
    "        display_board(theBoard)\n",
    "        \n",
    "        if full_board_check(theBoard):\n",
    "            print(\"it is a draw!\")\n",
    "            break\n",
    "            \n",
    "        \n",
    "        if turn == 'Player 1':\n",
    "            display_board(theBoard)\n",
    "            position = player_choice(theBoard)\n",
    "            place_marker(theBoard, player1mark, position)\n",
    "            display_board(theBoard)\n",
    "            win = win_check(theBoard, player1mark)\n",
    "            if win == True:\n",
    "                print(\"Congratulations, player1 wins!\")\n",
    "                break\n",
    "            else:\n",
    "                turn = 'Player 2'\n",
    "        \n",
    "        elif turn == 'Player 2':\n",
    "            display_board(theBoard)\n",
    "            position = player_choice(theBoard)\n",
    "            place_marker(theBoard, player2mark, position)\n",
    "            display_board(theBoard)\n",
    "            win = win_check(theBoard, player2mark)\n",
    "            if win == True:\n",
    "                print(\"Congratulations, player2 wins!\")\n",
    "                break\n",
    "            else:\n",
    "                turn = 'Player 1'\n",
    "            \n",
    "            \n",
    "\n",
    "    playAgain = replay()\n",
    "        \n",
    "    \n",
    "#while True:\n",
    "    # Set the game up here\n",
    "    #pass\n",
    "\n",
    "    #while game_on:\n",
    "        #Player 1 Turn\n",
    "        \n",
    "        \n",
    "        # Player2's turn.\n",
    "            \n",
    "            #pass\n",
    "\n",
    "    #if not replay():\n",
    "        #break"
   ]
  },
  {
   "cell_type": "markdown",
   "metadata": {
    "collapsed": true
   },
   "source": [
    "## Good Job!"
   ]
  },
  {
   "cell_type": "code",
   "execution_count": 75,
   "metadata": {},
   "outputs": [
    {
     "name": "stdout",
     "output_type": "stream",
     "text": [
      "[1, 2, 3, 'Hola', 5]\n",
      "[1, 2, 3, 'Hola', 5]\n"
     ]
    }
   ],
   "source": [
    "miVariable = [1,2,3,4,5]\n",
    "\n",
    "def cambioVariable(varia):\n",
    "    varia[3] = 'Hola'\n",
    "    return varia\n",
    "\n",
    "print(cambioVariable(miVariable))\n",
    "\n",
    "print(miVariable)"
   ]
  },
  {
   "cell_type": "code",
   "execution_count": null,
   "metadata": {},
   "outputs": [],
   "source": []
  }
 ],
 "metadata": {
  "kernelspec": {
   "display_name": "Python 3",
   "language": "python",
   "name": "python3"
  },
  "language_info": {
   "codemirror_mode": {
    "name": "ipython",
    "version": 3
   },
   "file_extension": ".py",
   "mimetype": "text/x-python",
   "name": "python",
   "nbconvert_exporter": "python",
   "pygments_lexer": "ipython3",
   "version": "3.12.0"
  }
 },
 "nbformat": 4,
 "nbformat_minor": 1
}
