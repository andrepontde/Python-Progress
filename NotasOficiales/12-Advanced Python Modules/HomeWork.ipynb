{
 "cells": [
  {
   "cell_type": "code",
   "execution_count": 2,
   "metadata": {},
   "outputs": [],
   "source": [
    "import zipfile\n",
    "import re\n",
    "import os"
   ]
  },
  {
   "cell_type": "code",
   "execution_count": 5,
   "metadata": {},
   "outputs": [],
   "source": [
    "#Do not run this line of code again!!\n",
    "\n",
    "zip_obj = zipfile.ZipFile('unzip_me_for_instructions.zip','r')\n",
    "zip_obj.extractall('extracted_content')"
   ]
  },
  {
   "cell_type": "code",
   "execution_count": 6,
   "metadata": {},
   "outputs": [
    {
     "name": "stdout",
     "output_type": "stream",
     "text": [
      "I found the number! 719-266-2837 in file c:\\Users\\andre\\OneDrive\\Programming\\Python\\NotasOficiales\\12-Advanced Python Modules\\extracted_content\\Four\\EMTGPSXQEJX.txt\n"
     ]
    }
   ],
   "source": [
    "# for folders,subfolders, files in os.walk(os.getcwd()+\"\\\\extracted_content\"):\n",
    "#     f = open(files, 'r')\n",
    "#     text = f.read()\n",
    "#     search = re.findall(r'\\d\\d\\d-\\d\\d\\d-\\d\\d\\d\\d',text)\n",
    "#     phone = re.search(r'\\d\\d\\d-\\d\\d\\d-\\d\\d\\d\\d',text)\n",
    "#     if len(search) > 0:\n",
    "#         print(f\"I found the number! {phone.group()}\")\n",
    "#         break\n",
    "    \n",
    "    \n",
    "for folder, subfolders, files in os.walk(os.path.join(os.getcwd(), \"extracted_content\")):\n",
    "    for file in files:\n",
    "        file_path = os.path.join(folder, file)\n",
    "        \n",
    "        try:\n",
    "            with open(file_path, 'r') as f:\n",
    "                text = f.read()\n",
    "        except Exception as e:\n",
    "            print(f\"Could not read file {file_path}: {e}\")\n",
    "            continue\n",
    "        \n",
    "        phone = re.search(r'\\d\\d\\d-\\d\\d\\d-\\d\\d\\d\\d', text)\n",
    "        if phone:\n",
    "            print(f\"I found the number! {phone.group()} in file {file_path}\")\n",
    "            break"
   ]
  },
  {
   "cell_type": "code",
   "execution_count": null,
   "metadata": {},
   "outputs": [],
   "source": []
  }
 ],
 "metadata": {
  "kernelspec": {
   "display_name": "Python 3",
   "language": "python",
   "name": "python3"
  },
  "language_info": {
   "codemirror_mode": {
    "name": "ipython",
    "version": 3
   },
   "file_extension": ".py",
   "mimetype": "text/x-python",
   "name": "python",
   "nbconvert_exporter": "python",
   "pygments_lexer": "ipython3",
   "version": "3.12.0"
  }
 },
 "nbformat": 4,
 "nbformat_minor": 2
}
