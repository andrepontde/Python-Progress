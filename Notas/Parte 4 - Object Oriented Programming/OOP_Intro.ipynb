{
 "cells": [
  {
   "cell_type": "code",
   "execution_count": 1,
   "metadata": {},
   "outputs": [],
   "source": [
    "class NameOfClass():\n",
    "    \n",
    "    def __init__(self, param1, param2):\n",
    "        self.param1 = param1\n",
    "        self.param2 = param2\n",
    "    \n",
    "    def some_method(self):\n",
    "        print(self.param1)"
   ]
  },
  {
   "cell_type": "code",
   "execution_count": 152,
   "metadata": {},
   "outputs": [],
   "source": [
    "#User defined object\n",
    "\n",
    "class Dog():\n",
    "    #Class object attributes, for unchanging values, not modifiable by the end user\n",
    "    species = 'Mammal'\n",
    "    \n",
    "    #Here I succesfully created a Set method because I am la verga, first using the word SELF to reference that it is going to change an attribute within the object.\n",
    "    def setSpecies(self, specie):\n",
    "        self.species = specie\n",
    "    \n",
    "    #This is a method, not a function, because it is inside of a class\n",
    "    #The __init__ method is basically a constructor, so that makes me think that this OOP is basically just what instantiable classes where in Java, you create an object, you define what functions it has and then use it to simplyfy a number of tasks.\n",
    "    def __init__(self, breed, name, age):#(Set method and constructor)\n",
    "        #Breed is a parameter that will have to be inputed when creating the object later on, as in dog(Silky terrier) for example \n",
    "        self.breed = breed\n",
    "        self.name = name\n",
    "        \n",
    "        #Integer Value\n",
    "        self.age = age\n",
    "        \n",
    "    #Operations/Actions -> methods (Other method part)\n",
    "    def bark(self, number):\n",
    "        #Aqui lo que name hace es que para ese objeto en particular que se esté usando, imprimas su nombre, asi que tendras que referenciar eso cuando estes trabajando con algo asi, ya que esa es una variable que puede cambiar muy facilmente.\n",
    "        print(f\"WOOF! My name is {self.name} and the number is {number} and the species is {Dog.species}\")\n",
    "        \n",
    "        "
   ]
  },
  {
   "cell_type": "code",
   "execution_count": 153,
   "metadata": {},
   "outputs": [],
   "source": [
    "my_Dog = Dog('Silky','Chester', 14)"
   ]
  },
  {
   "cell_type": "code",
   "execution_count": 154,
   "metadata": {},
   "outputs": [],
   "source": [
    "my_Dog = Dog(breed='Silky Terrier',name='Chester',age= 14)"
   ]
  },
  {
   "cell_type": "code",
   "execution_count": 155,
   "metadata": {},
   "outputs": [
    {
     "data": {
      "text/plain": [
       "__main__.Dog"
      ]
     },
     "execution_count": 155,
     "metadata": {},
     "output_type": "execute_result"
    }
   ],
   "source": [
    "type(my_Dog)"
   ]
  },
  {
   "cell_type": "code",
   "execution_count": 156,
   "metadata": {},
   "outputs": [
    {
     "data": {
      "text/plain": [
       "'Chester'"
      ]
     },
     "execution_count": 156,
     "metadata": {},
     "output_type": "execute_result"
    }
   ],
   "source": [
    "my_Dog.name"
   ]
  },
  {
   "cell_type": "code",
   "execution_count": 157,
   "metadata": {},
   "outputs": [],
   "source": [
    "my_Dog.setSpecies('Reptile')"
   ]
  },
  {
   "cell_type": "code",
   "execution_count": 158,
   "metadata": {},
   "outputs": [
    {
     "data": {
      "text/plain": [
       "'Reptile'"
      ]
     },
     "execution_count": 158,
     "metadata": {},
     "output_type": "execute_result"
    }
   ],
   "source": [
    "my_Dog.species"
   ]
  },
  {
   "cell_type": "code",
   "execution_count": 159,
   "metadata": {},
   "outputs": [
    {
     "name": "stdout",
     "output_type": "stream",
     "text": [
      "WOOF! My name is Chester and the number is 6 and the species is Mammal\n"
     ]
    }
   ],
   "source": [
    "#We use () to initialize methods, not attrubutes\n",
    "my_Dog.bark(6)"
   ]
  },
  {
   "cell_type": "code",
   "execution_count": 160,
   "metadata": {},
   "outputs": [],
   "source": [
    "class Circle():\n",
    "    \n",
    "    #Class object attribute (Something true with every instance of a class)\n",
    "    pi = 3.1416\n",
    "    #These class object attributes can be referenced in a different way as well, for example: Circle.pi instead of Self.py to perform some actions\n",
    "    #To make a little bit more sense out of this, we can all access the variables that are in the code but then there are some variables that live and die within functions or loops, this is something simmilar, pi only exists within Circle, that is why you can reference it like that.\n",
    "    #For the other variables on the other hand, we can only use them with the SELF word because we need more information from the parameters established\n",
    "    \n",
    "    #Default value of radius is 1, this will be used if no argument is provided \n",
    "    def __init__(self, radius=1):\n",
    "        \n",
    "        self.radius = radius\n",
    "        #An attrubute doesnt have to be defined by a call like this one, but exist with the already provided info, for example:\n",
    "        self.area = radius*radius*self.pi\n",
    "        #Also note that you don't NEED (But can use) the self for the radius in the area part, because you are already inside the method and taking into account the inputed value.\n",
    "    \n",
    "    #litterally a get method, it is pretty much an instatiable class\n",
    "    def get_circumference(self):\n",
    "        return  self.radius*self.pi*2"
   ]
  },
  {
   "cell_type": "markdown",
   "metadata": {},
   "source": [
    "From all that I am understanding here, the self keyword simply acts as a reference to a class that it is working within only the assigned object described, for example, if I have myset1 and myset2, if I use any method in myset1, the contents of myset2 will not be changed whatsoever."
   ]
  },
  {
   "cell_type": "code",
   "execution_count": 147,
   "metadata": {},
   "outputs": [],
   "source": [
    "my_circle = Circle(78)"
   ]
  },
  {
   "cell_type": "code",
   "execution_count": 148,
   "metadata": {},
   "outputs": [
    {
     "data": {
      "text/plain": [
       "490.0896"
      ]
     },
     "execution_count": 148,
     "metadata": {},
     "output_type": "execute_result"
    }
   ],
   "source": [
    "my_circle.get_circumference()"
   ]
  },
  {
   "cell_type": "code",
   "execution_count": 149,
   "metadata": {},
   "outputs": [],
   "source": [
    "#I am not assigning any value here but it works fine because of the default value\n",
    "my_circle2 = Circle()"
   ]
  },
  {
   "cell_type": "code",
   "execution_count": 150,
   "metadata": {},
   "outputs": [
    {
     "data": {
      "text/plain": [
       "6.2832"
      ]
     },
     "execution_count": 150,
     "metadata": {},
     "output_type": "execute_result"
    }
   ],
   "source": [
    "my_circle2.get_circumference()"
   ]
  },
  {
   "cell_type": "code",
   "execution_count": 151,
   "metadata": {},
   "outputs": [
    {
     "data": {
      "text/plain": [
       "19113.4944"
      ]
     },
     "execution_count": 151,
     "metadata": {},
     "output_type": "execute_result"
    }
   ],
   "source": [
    "my_circle.area"
   ]
  },
  {
   "cell_type": "code",
   "execution_count": null,
   "metadata": {},
   "outputs": [],
   "source": []
  },
  {
   "cell_type": "code",
   "execution_count": null,
   "metadata": {},
   "outputs": [],
   "source": []
  }
 ],
 "metadata": {
  "kernelspec": {
   "display_name": "Python 3",
   "language": "python",
   "name": "python3"
  },
  "language_info": {
   "codemirror_mode": {
    "name": "ipython",
    "version": 3
   },
   "file_extension": ".py",
   "mimetype": "text/x-python",
   "name": "python",
   "nbconvert_exporter": "python",
   "pygments_lexer": "ipython3",
   "version": "3.12.0"
  }
 },
 "nbformat": 4,
 "nbformat_minor": 2
}
