{
 "cells": [
  {
   "cell_type": "code",
   "execution_count": null,
   "metadata": {},
   "outputs": [],
   "source": []
  },
  {
   "cell_type": "code",
   "execution_count": 6,
   "metadata": {},
   "outputs": [
    {
     "name": "stdout",
     "output_type": "stream",
     "text": [
      "0 es menor que 10\n",
      "Otro punto será agregado\n",
      "1 es menor que 10\n",
      "Otro punto será agregado\n",
      "2 es menor que 10\n",
      "Otro punto será agregado\n",
      "3 es menor que 10\n",
      "Otro punto será agregado\n",
      "4 es menor que 10\n",
      "Otro punto será agregado\n",
      "5 es menor que 10\n",
      "Otro punto será agregado\n",
      "6 es menor que 10\n",
      "Otro punto será agregado\n",
      "7 es menor que 10\n",
      "Otro punto será agregado\n",
      "8 es menor que 10\n",
      "Otro punto será agregado\n",
      "9 es menor que 10\n",
      "Otro punto será agregado\n",
      "Numero 10 conseguido, comenzando protocolo de overclock\n",
      "Aumentando 3 digitos, numero 13 alcanzado\n",
      "Aumentando 3 digitos, numero 16 alcanzado\n",
      "Aumentando 3 digitos, numero 19 alcanzado\n",
      "Aumentando 3 digitos, numero 22 alcanzado\n",
      "Aumentando 3 digitos, numero 25 alcanzado\n",
      "Aumentando 3 digitos, numero 28 alcanzado\n",
      "Aumentando 3 digitos, numero 31 alcanzado\n",
      "Rendimiento maximo alcanzado\n"
     ]
    }
   ],
   "source": [
    "x = 0 \n",
    "\n",
    "while x < 10:\n",
    "    print(f\"{x} es menor que 10\")\n",
    "    print(\"Otro punto será agregado\")\n",
    "    x += 1\n",
    "else:\n",
    "    if x == 10:\n",
    "        print(\"Numero 10 conseguido, comenzando protocolo de overclock\")\n",
    "    while x < 30:\n",
    "        x += 3\n",
    "        print(f\"Aumentando 3 digitos, numero {x} alcanzado\")\n",
    "    else:\n",
    "        print(\"Rendimiento maximo alcanzado\")\n",
    "        \n",
    "        "
   ]
  },
  {
   "cell_type": "code",
   "execution_count": 7,
   "metadata": {},
   "outputs": [
    {
     "name": "stdout",
     "output_type": "stream",
     "text": [
      "I don't know what to do with my life\n"
     ]
    }
   ],
   "source": [
    "x = [1,2,3,4]\n",
    "\n",
    "for item in x:\n",
    "    # Este es un ejemplo\n",
    "    pass\n",
    "else:\n",
    "    print(\"I don't know what to do with my life\")"
   ]
  },
  {
   "cell_type": "code",
   "execution_count": 11,
   "metadata": {},
   "outputs": [
    {
     "name": "stdout",
     "output_type": "stream",
     "text": [
      "S\n",
      "m\n",
      "m\n",
      "y\n"
     ]
    }
   ],
   "source": [
    "for letter in \"Sammy\":\n",
    "    if letter == \"a\":\n",
    "        continue\n",
    "        \n",
    "    print(letter)"
   ]
  },
  {
   "cell_type": "code",
   "execution_count": 12,
   "metadata": {},
   "outputs": [
    {
     "name": "stdout",
     "output_type": "stream",
     "text": [
      "S\n"
     ]
    }
   ],
   "source": [
    "for letter in \"Sammy\":\n",
    "    if letter == \"a\":\n",
    "        break\n",
    "        \n",
    "    print(letter)\n"
   ]
  },
  {
   "cell_type": "code",
   "execution_count": 1,
   "metadata": {},
   "outputs": [
    {
     "name": "stdout",
     "output_type": "stream",
     "text": [
      "Ostia puta\n",
      "Ostia puta\n",
      "Ostia puta\n",
      "Ostia puta\n",
      "Ostia puta\n",
      "Ostia puta\n",
      "Ostia puta\n",
      "Ostia puta\n",
      "Ostia puta\n",
      "Ostia puta\n",
      "Ostia puta\n",
      "Ostia puta\n",
      "Ostia puta\n",
      "Ostia puta\n",
      "Ostia puta\n",
      "Ostia puta\n",
      "Ostia puta\n",
      "Ostia puta\n",
      "Ostia puta\n",
      "Ostia puta\n",
      "Ostia puta\n",
      "Ostia puta\n",
      "Ostia puta\n",
      "Ostia puta\n",
      "Ostia puta\n",
      "Ostia puta\n",
      "Ostia puta\n",
      "Ostia puta\n",
      "Ostia puta\n",
      "Ostia puta\n",
      "Ostia puta\n"
     ]
    }
   ],
   "source": [
    "alab = \"Excremento de burro asincronico\"\n",
    "for caca in alab:\n",
    "    print(\"Ostia puta\")\n"
   ]
  },
  {
   "cell_type": "code",
   "execution_count": null,
   "metadata": {},
   "outputs": [],
   "source": []
  }
 ],
 "metadata": {
  "kernelspec": {
   "display_name": "Python 3",
   "language": "python",
   "name": "python3"
  },
  "language_info": {
   "codemirror_mode": {
    "name": "ipython",
    "version": 3
   },
   "file_extension": ".py",
   "mimetype": "text/x-python",
   "name": "python",
   "nbconvert_exporter": "python",
   "pygments_lexer": "ipython3",
   "version": "3.8.5"
  }
 },
 "nbformat": 4,
 "nbformat_minor": 4
}
