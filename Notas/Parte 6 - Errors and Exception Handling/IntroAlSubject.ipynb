{
 "cells": [
  {
   "cell_type": "code",
   "execution_count": 1,
   "metadata": {},
   "outputs": [
    {
     "ename": "TypeError",
     "evalue": "unsupported operand type(s) for +: 'int' and 'str'",
     "output_type": "error",
     "traceback": [
      "\u001b[1;31m---------------------------------------------------------------------------\u001b[0m",
      "\u001b[1;31mTypeError\u001b[0m                                 Traceback (most recent call last)",
      "Cell \u001b[1;32mIn[1], line 1\u001b[0m\n\u001b[1;32m----> 1\u001b[0m number \u001b[38;5;241m=\u001b[39m \u001b[38;5;241;43m10\u001b[39;49m\u001b[43m \u001b[49m\u001b[38;5;241;43m+\u001b[39;49m\u001b[43m \u001b[49m\u001b[38;5;124;43m'\u001b[39;49m\u001b[38;5;124;43m10\u001b[39;49m\u001b[38;5;124;43m'\u001b[39;49m\n",
      "\u001b[1;31mTypeError\u001b[0m: unsupported operand type(s) for +: 'int' and 'str'"
     ]
    }
   ],
   "source": [
    "number = 10 + '10'"
   ]
  },
  {
   "cell_type": "code",
   "execution_count": 3,
   "metadata": {},
   "outputs": [
    {
     "name": "stdout",
     "output_type": "stream",
     "text": [
      "It looks that that is not an integer!\n"
     ]
    }
   ],
   "source": [
    "try:\n",
    "    number = 10 + '10'\n",
    "except:\n",
    "    print(\"It looks that that is not an integer!\")\n"
   ]
  },
  {
   "cell_type": "code",
   "execution_count": 5,
   "metadata": {},
   "outputs": [
    {
     "name": "stdout",
     "output_type": "stream",
     "text": [
      "That went well!\n",
      "20\n"
     ]
    }
   ],
   "source": [
    "try:\n",
    "    number = 10 + 10\n",
    "except:\n",
    "    print(\"It looks that that is not an integer!\")\n",
    "else:\n",
    "    print(\"That went well!\")\n",
    "    print(number)"
   ]
  },
  {
   "cell_type": "code",
   "execution_count": 7,
   "metadata": {},
   "outputs": [
    {
     "name": "stdout",
     "output_type": "stream",
     "text": [
      "I always run\n"
     ]
    }
   ],
   "source": [
    "try:\n",
    "    f = open('testfile', 'w')\n",
    "    f.write(\"Write a test line to this file\")\n",
    "except TypeError:\n",
    "    #We can have specific error handling\n",
    "    print(\"There was a TyperError\")\n",
    "except OSError:\n",
    "    print(\"hey you have an OS error\")\n",
    "finally:\n",
    "    #Finally will always be executed,no matter what the outcome was\n",
    "    print(\"I always run\")\n",
    "    "
   ]
  },
  {
   "cell_type": "code",
   "execution_count": 8,
   "metadata": {},
   "outputs": [
    {
     "name": "stdout",
     "output_type": "stream",
     "text": [
      "hey you have an OS error\n",
      "I always run\n"
     ]
    }
   ],
   "source": [
    "try:\n",
    "    f = open('testfile', 'r')\n",
    "    f.write(\"Write a test line to this file\")\n",
    "except TypeError:\n",
    "    #We can have specific error handling\n",
    "    print(\"There was a TyperError\")\n",
    "except OSError:\n",
    "    print(\"hey you have an OS error\")\n",
    "finally:\n",
    "    #Finally will always be executed,no matter what the outcome was\n",
    "    print(\"I always run\")"
   ]
  },
  {
   "cell_type": "code",
   "execution_count": 9,
   "metadata": {},
   "outputs": [],
   "source": [
    "def ask_for_int():\n",
    "    try:\n",
    "        result = int(input(\"Please provide a number\"))\n",
    "    except:\n",
    "        print(\"That is not a number\")\n",
    "    finally:\n",
    "        print(\"End of try/Except\")"
   ]
  },
  {
   "cell_type": "code",
   "execution_count": 11,
   "metadata": {},
   "outputs": [
    {
     "name": "stdout",
     "output_type": "stream",
     "text": [
      "That is not a number\n",
      "End of try/Except\n"
     ]
    }
   ],
   "source": [
    "ask_for_int()"
   ]
  },
  {
   "cell_type": "code",
   "execution_count": 3,
   "metadata": {},
   "outputs": [],
   "source": [
    "def ask_for_int():\n",
    "    while True:\n",
    "        try:\n",
    "            result = int(input(\"Please provide a number\"))\n",
    "        except:\n",
    "            print(\"That is not a number\")\n",
    "            continue\n",
    "        else:\n",
    "            print(\"that is correct, thank you\")\n",
    "            break\n",
    "        finally:\n",
    "            print(\"End of try/Except\")\n",
    "            print(\"I always run at the end\")"
   ]
  },
  {
   "cell_type": "code",
   "execution_count": 5,
   "metadata": {},
   "outputs": [
    {
     "name": "stdout",
     "output_type": "stream",
     "text": [
      "That is not a number\n",
      "End of try/Except\n",
      "I always run at the end\n",
      "That is not a number\n",
      "End of try/Except\n",
      "I always run at the end\n",
      "that is correct, thank you\n",
      "End of try/Except\n",
      "I always run at the end\n"
     ]
    }
   ],
   "source": [
    "ask_for_int()"
   ]
  },
  {
   "cell_type": "code",
   "execution_count": null,
   "metadata": {},
   "outputs": [],
   "source": [
    "\n"
   ]
  }
 ],
 "metadata": {
  "kernelspec": {
   "display_name": "Python 3",
   "language": "python",
   "name": "python3"
  },
  "language_info": {
   "codemirror_mode": {
    "name": "ipython",
    "version": 3
   },
   "file_extension": ".py",
   "mimetype": "text/x-python",
   "name": "python",
   "nbconvert_exporter": "python",
   "pygments_lexer": "ipython3",
   "version": "3.12.0"
  }
 },
 "nbformat": 4,
 "nbformat_minor": 2
}
